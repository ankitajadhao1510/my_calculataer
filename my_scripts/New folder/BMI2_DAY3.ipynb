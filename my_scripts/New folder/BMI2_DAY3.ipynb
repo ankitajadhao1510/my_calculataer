{
 "cells": [
  {
   "cell_type": "code",
   "execution_count": 3,
   "id": "5ca5d770",
   "metadata": {},
   "outputs": [
    {
     "name": "stdout",
     "output_type": "stream",
     "text": [
      "enter your height in m: 1.95\n",
      "enter your weight in kg: 99\n",
      "your BMI is 26, you are slightly overweight\n"
     ]
    }
   ],
   "source": [
    "height = float(input(\"enter your height in m: \"))\n",
    "weight = float(input(\"enter your weight in kg: \"))\n",
    "BMI= round(weight/height**2)\n",
    "if (BMI<18.5):\n",
    "    print(f\"your BMI is {BMI},you are underweight\")\n",
    "elif (BMI<25):\n",
    "    print(f\"your BMI is {BMI},you have a normal weight\")\n",
    "elif (BMI<30):\n",
    "    print(f\"your BMI is {BMI}, you are slightly overweight\")\n",
    "elif (BMI<35):\n",
    "    print(f\"your BMI is {BMI},you are obese\")\n",
    "else:\n",
    "    print(f\"your BMI is {BMI},you are clinically obese\")\n",
    " "
   ]
  },
  {
   "cell_type": "code",
   "execution_count": null,
   "id": "c28080b6",
   "metadata": {},
   "outputs": [],
   "source": []
  },
  {
   "cell_type": "code",
   "execution_count": null,
   "id": "0cbec218",
   "metadata": {},
   "outputs": [],
   "source": []
  },
  {
   "cell_type": "code",
   "execution_count": null,
   "id": "4a99bb8e",
   "metadata": {},
   "outputs": [],
   "source": []
  }
 ],
 "metadata": {
  "kernelspec": {
   "display_name": "Python 3 (ipykernel)",
   "language": "python",
   "name": "python3"
  },
  "language_info": {
   "codemirror_mode": {
    "name": "ipython",
    "version": 3
   },
   "file_extension": ".py",
   "mimetype": "text/x-python",
   "name": "python",
   "nbconvert_exporter": "python",
   "pygments_lexer": "ipython3",
   "version": "3.9.7"
  }
 },
 "nbformat": 4,
 "nbformat_minor": 5
}
