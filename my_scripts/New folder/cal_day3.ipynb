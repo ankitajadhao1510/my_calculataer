{
 "cells": [
  {
   "cell_type": "code",
   "execution_count": 7,
   "id": "e5ea9084",
   "metadata": {},
   "outputs": [
    {
     "name": "stdout",
     "output_type": "stream",
     "text": [
      "Welcome to the Love Calculator!\n",
      "What is your name? \n",
      "ankita jadhao\n",
      "What is their name? \n",
      "pranita jadhao\n",
      "Your score is 32, you are alright togethe\n"
     ]
    }
   ],
   "source": [
    "print(\"Welcome to the Love Calculator!\")\n",
    "name1 = input(\"What is your name? \\n\")\n",
    "name2 = input(\"What is their name? \\n\")\n",
    "combined_name= name1 + name2\n",
    "lower_names= combined_name.lower()\n",
    "t= lower_names.count('t')\n",
    "r= lower_names.count('r')\n",
    "u= lower_names.count('u')\n",
    "e= lower_names.count('e')\n",
    "first_digit= t + r + u + e\n",
    "\n",
    "l= lower_names.count('l')\n",
    "o= lower_names.count('o')\n",
    "v= lower_names.count('v')\n",
    "e= lower_names.count('e')\n",
    "second_digit= l + o + v + e\n",
    "\n",
    "score = int(str(first_digit) + str(second_digit))\n",
    "if  (score<10) or (score>90):\n",
    "    \n",
    "    print(f\"Your score is {score}, you go together like coke and mentos.\")\n",
    "elif (score<40) or (score>50):\n",
    "          print(f\"Your score is {score}, you are alright togethe\")\n",
    "else:\n",
    "    print(f\"Your score is {score}\")\n",
    "\n",
    "          \n",
    "\n"
   ]
  },
  {
   "cell_type": "code",
   "execution_count": null,
   "id": "602e5887",
   "metadata": {},
   "outputs": [],
   "source": []
  }
 ],
 "metadata": {
  "kernelspec": {
   "display_name": "Python 3 (ipykernel)",
   "language": "python",
   "name": "python3"
  },
  "language_info": {
   "codemirror_mode": {
    "name": "ipython",
    "version": 3
   },
   "file_extension": ".py",
   "mimetype": "text/x-python",
   "name": "python",
   "nbconvert_exporter": "python",
   "pygments_lexer": "ipython3",
   "version": "3.9.7"
  }
 },
 "nbformat": 4,
 "nbformat_minor": 5
}
