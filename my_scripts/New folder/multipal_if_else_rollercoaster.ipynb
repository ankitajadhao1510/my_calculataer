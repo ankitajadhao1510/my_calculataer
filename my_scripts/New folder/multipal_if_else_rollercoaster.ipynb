{
 "cells": [
  {
   "cell_type": "code",
   "execution_count": 6,
   "id": "fb4ae0f9",
   "metadata": {},
   "outputs": [
    {
     "name": "stdout",
     "output_type": "stream",
     "text": [
      "Welcome to the rollercoaster!\n",
      "what is your height in cm? 175\n",
      "You can ride the rollercoaster!\n",
      "What is your age? 25\n",
      "Adult tickets are $12.\n",
      "do you want photo, Y 0r N ?Y\n",
      "your final bill is $15\n"
     ]
    }
   ],
   "source": [
    "print('Welcome to the rollercoaster!')\n",
    "height= int(input('what is your height in cm? '))\n",
    "if height>=120:\n",
    "    print('You can ride the rollercoaster!')\n",
    "    age = int(input(\"What is your age? \"))\n",
    "    if age < 12:\n",
    "        bill = 5\n",
    "        print(\"Child tickets are $5.\")\n",
    "    elif age <= 18:\n",
    "        bill = 7\n",
    "        print(\"Youth tickets are $7.\")\n",
    "    else:\n",
    "        bill = 12\n",
    "        print(\"Adult tickets are $12.\")\n",
    "    want_photo= input('do you want photo, Y 0r N ?')\n",
    "    if want_photo=='Y':\n",
    "        bill+=3\n",
    "        print(f\"your final bill is ${bill}\")\n",
    "\n",
    "else :\n",
    "    print('Sorry, you have to grow taller before you can ride.')"
   ]
  },
  {
   "cell_type": "code",
   "execution_count": null,
   "id": "7dc0f5b6",
   "metadata": {},
   "outputs": [],
   "source": []
  }
 ],
 "metadata": {
  "kernelspec": {
   "display_name": "Python 3 (ipykernel)",
   "language": "python",
   "name": "python3"
  },
  "language_info": {
   "codemirror_mode": {
    "name": "ipython",
    "version": 3
   },
   "file_extension": ".py",
   "mimetype": "text/x-python",
   "name": "python",
   "nbconvert_exporter": "python",
   "pygments_lexer": "ipython3",
   "version": "3.9.7"
  }
 },
 "nbformat": 4,
 "nbformat_minor": 5
}
