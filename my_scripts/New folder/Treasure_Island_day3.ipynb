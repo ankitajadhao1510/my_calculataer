{
 "cells": [
  {
   "cell_type": "code",
   "execution_count": 13,
   "id": "2c1f49ae",
   "metadata": {},
   "outputs": [
    {
     "name": "stdout",
     "output_type": "stream",
     "text": [
      "Welcome to Treasure Island.\n",
      "Your mission is to find the treasure.\n",
      "where you want to go left or right?\n",
      " - left\n",
      "there is a lake /n swim or waitwait\n",
      "which door/n red, yellow and blue? yellow\n",
      "You win!\n"
     ]
    }
   ],
   "source": [
    "print(\"Welcome to Treasure Island.\")\n",
    "print(\"Your mission is to find the treasure.\")\n",
    "choice1= input('where you want to go left or right?\\n - ').lower()\n",
    "if choice1==\"left\":\n",
    "    choice2= input('there is a lake /n swim or wait').lower()\n",
    "    if choice2=='wait':\n",
    "        choice3=input('which door/n red, yellow and blue? ').lower() \n",
    "        if choice3=='yellow':\n",
    "            print('You win!')\n",
    "        elif choice3=='red':\n",
    "            print('burned by fire/n game over!')\n",
    "        elif choice3=='blue':\n",
    "            print('eaten by beasts/n game over!')\n",
    "        else:\n",
    "            print('Game over')\n",
    "    else:\n",
    "        print('attacked by trout/n game over! ')\n",
    "    \n",
    "else:\n",
    "    print('fall into a hole/n game over! ')\n"
   ]
  },
  {
   "cell_type": "code",
   "execution_count": null,
   "id": "ea92e680",
   "metadata": {},
   "outputs": [],
   "source": [
    "def calareaofcircle(r):\n",
    "    area=3.14*r*r\n",
    "    print(area)"
   ]
  },
  {
   "cell_type": "code",
   "execution_count": 5,
   "id": "2a4d6478",
   "metadata": {},
   "outputs": [
    {
     "ename": "NameError",
     "evalue": "name 'calareaofcircle' is not defined",
     "output_type": "error",
     "traceback": [
      "\u001b[1;31m---------------------------------------------------------------------------\u001b[0m",
      "\u001b[1;31mNameError\u001b[0m                                 Traceback (most recent call last)",
      "\u001b[1;32mC:\\Users\\AZISTA~1\\AppData\\Local\\Temp/ipykernel_19596/4203186395.py\u001b[0m in \u001b[0;36m<module>\u001b[1;34m\u001b[0m\n\u001b[1;32m----> 1\u001b[1;33m \u001b[0mcalareaofcircle\u001b[0m\u001b[1;33m(\u001b[0m\u001b[1;36m3\u001b[0m\u001b[1;33m)\u001b[0m\u001b[1;33m\u001b[0m\u001b[1;33m\u001b[0m\u001b[0m\n\u001b[0m",
      "\u001b[1;31mNameError\u001b[0m: name 'calareaofcircle' is not defined"
     ]
    }
   ],
   "source": [
    "calareaofcircle(3)\n"
   ]
  },
  {
   "cell_type": "code",
   "execution_count": 8,
   "id": "656506f2",
   "metadata": {},
   "outputs": [],
   "source": [
    "def area(n):\n",
    "    area=3.14*(n*n)\n",
    "    print(area)"
   ]
  },
  {
   "cell_type": "raw",
   "id": "d856e875",
   "metadata": {},
   "source": [
    "area(3)"
   ]
  },
  {
   "cell_type": "code",
   "execution_count": 10,
   "id": "99fe9b2e",
   "metadata": {},
   "outputs": [
    {
     "ename": "TypeError",
     "evalue": "can't multiply sequence by non-int of type 'str'",
     "output_type": "error",
     "traceback": [
      "\u001b[1;31m---------------------------------------------------------------------------\u001b[0m",
      "\u001b[1;31mTypeError\u001b[0m                                 Traceback (most recent call last)",
      "\u001b[1;32mC:\\Users\\AZISTA~1\\AppData\\Local\\Temp/ipykernel_19596/1237681702.py\u001b[0m in \u001b[0;36m<module>\u001b[1;34m\u001b[0m\n\u001b[1;32m----> 1\u001b[1;33m \u001b[0marea\u001b[0m\u001b[1;33m(\u001b[0m\u001b[1;34m'b'\u001b[0m\u001b[1;33m)\u001b[0m\u001b[1;33m\u001b[0m\u001b[1;33m\u001b[0m\u001b[0m\n\u001b[0m",
      "\u001b[1;32mC:\\Users\\AZISTA~1\\AppData\\Local\\Temp/ipykernel_19596/18308328.py\u001b[0m in \u001b[0;36marea\u001b[1;34m(n)\u001b[0m\n\u001b[0;32m      1\u001b[0m \u001b[1;32mdef\u001b[0m \u001b[0marea\u001b[0m\u001b[1;33m(\u001b[0m\u001b[0mn\u001b[0m\u001b[1;33m)\u001b[0m\u001b[1;33m:\u001b[0m\u001b[1;33m\u001b[0m\u001b[1;33m\u001b[0m\u001b[0m\n\u001b[1;32m----> 2\u001b[1;33m     \u001b[0marea\u001b[0m\u001b[1;33m=\u001b[0m\u001b[1;36m3.14\u001b[0m\u001b[1;33m*\u001b[0m\u001b[1;33m(\u001b[0m\u001b[0mn\u001b[0m\u001b[1;33m*\u001b[0m\u001b[0mn\u001b[0m\u001b[1;33m)\u001b[0m\u001b[1;33m\u001b[0m\u001b[1;33m\u001b[0m\u001b[0m\n\u001b[0m\u001b[0;32m      3\u001b[0m     \u001b[0mprint\u001b[0m\u001b[1;33m(\u001b[0m\u001b[0marea\u001b[0m\u001b[1;33m)\u001b[0m\u001b[1;33m\u001b[0m\u001b[1;33m\u001b[0m\u001b[0m\n",
      "\u001b[1;31mTypeError\u001b[0m: can't multiply sequence by non-int of type 'str'"
     ]
    }
   ],
   "source": [
    "area()"
   ]
  },
  {
   "cell_type": "code",
   "execution_count": 11,
   "id": "e4a225ce",
   "metadata": {},
   "outputs": [
    {
     "ename": "NameError",
     "evalue": "name 'lower' is not defined",
     "output_type": "error",
     "traceback": [
      "\u001b[1;31m---------------------------------------------------------------------------\u001b[0m",
      "\u001b[1;31mNameError\u001b[0m                                 Traceback (most recent call last)",
      "\u001b[1;32mC:\\Users\\AZISTA~1\\AppData\\Local\\Temp/ipykernel_19596/1086665381.py\u001b[0m in \u001b[0;36m<module>\u001b[1;34m\u001b[0m\n\u001b[1;32m----> 1\u001b[1;33m \u001b[0mlower\u001b[0m\u001b[1;33m(\u001b[0m\u001b[1;34m\"GFGFG\"\u001b[0m\u001b[1;33m)\u001b[0m\u001b[1;33m\u001b[0m\u001b[1;33m\u001b[0m\u001b[0m\n\u001b[0m",
      "\u001b[1;31mNameError\u001b[0m: name 'lower' is not defined"
     ]
    }
   ],
   "source": [
    "lower(\"GFGFG\")\n"
   ]
  },
  {
   "cell_type": "code",
   "execution_count": 12,
   "id": "dd413b7c",
   "metadata": {},
   "outputs": [
    {
     "data": {
      "text/plain": [
       "'gahgshgg'"
      ]
     },
     "execution_count": 12,
     "metadata": {},
     "output_type": "execute_result"
    }
   ],
   "source": [
    "strr=\"gahgsHGG\"\n",
    "strr.lower(ahgx)"
   ]
  },
  {
   "cell_type": "code",
   "execution_count": null,
   "id": "1110af3f",
   "metadata": {},
   "outputs": [],
   "source": []
  }
 ],
 "metadata": {
  "kernelspec": {
   "display_name": "Python 3 (ipykernel)",
   "language": "python",
   "name": "python3"
  },
  "language_info": {
   "codemirror_mode": {
    "name": "ipython",
    "version": 3
   },
   "file_extension": ".py",
   "mimetype": "text/x-python",
   "name": "python",
   "nbconvert_exporter": "python",
   "pygments_lexer": "ipython3",
   "version": "3.9.7"
  }
 },
 "nbformat": 4,
 "nbformat_minor": 5
}
