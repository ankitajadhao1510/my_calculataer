{
 "cells": [
  {
   "cell_type": "code",
   "execution_count": 2,
   "id": "677a15d6",
   "metadata": {},
   "outputs": [
    {
     "name": "stdout",
     "output_type": "stream",
     "text": [
      "Which year do you want to check?  2013\n",
      "not leap year.\n"
     ]
    }
   ],
   "source": [
    "year= int(input('Which year do you want to check?  '))\n",
    "if year%4==0:\n",
    "    if year%100:\n",
    "        if year%400:\n",
    "            print('leap year')\n",
    "        else:\n",
    "            print('not leap')\n",
    "    else:\n",
    "        print('leap year')\n",
    "else:\n",
    "    print('not leap year.')"
   ]
  },
  {
   "cell_type": "code",
   "execution_count": null,
   "id": "065b3724",
   "metadata": {},
   "outputs": [],
   "source": []
  }
 ],
 "metadata": {
  "kernelspec": {
   "display_name": "Python 3 (ipykernel)",
   "language": "python",
   "name": "python3"
  },
  "language_info": {
   "codemirror_mode": {
    "name": "ipython",
    "version": 3
   },
   "file_extension": ".py",
   "mimetype": "text/x-python",
   "name": "python",
   "nbconvert_exporter": "python",
   "pygments_lexer": "ipython3",
   "version": "3.9.7"
  }
 },
 "nbformat": 4,
 "nbformat_minor": 5
}
