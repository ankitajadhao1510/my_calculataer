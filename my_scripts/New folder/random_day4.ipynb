{
 "cells": [
  {
   "cell_type": "code",
   "execution_count": 18,
   "id": "a4d60b39",
   "metadata": {
    "scrolled": false
   },
   "outputs": [
    {
     "name": "stdout",
     "output_type": "stream",
     "text": [
      "20\n",
      "0.6008293559340905\n"
     ]
    }
   ],
   "source": [
    "import random\n",
    "random_int = random.randint(1, 20)\n",
    "\n",
    "print(random_int)\n",
    "\n",
    "random_float= random.random()\n",
    "\n",
    "print(random_float)"
   ]
  },
  {
   "cell_type": "code",
   "execution_count": 47,
   "id": "1b574788",
   "metadata": {
    "scrolled": true
   },
   "outputs": [
    {
     "name": "stdout",
     "output_type": "stream",
     "text": [
      "d\n"
     ]
    }
   ],
   "source": [
    "import random\n",
    "frd= ['a','b','c','d','e']\n",
    "c= random.choice(frd)\n",
    "print(c)\n"
   ]
  },
  {
   "cell_type": "code",
   "execution_count": 37,
   "id": "e51de41c",
   "metadata": {},
   "outputs": [
    {
     "name": "stdout",
     "output_type": "stream",
     "text": [
      "['Delaware', 'Pennsylvania', 'New Jersey', 'Georgia', 'Connecticut']\n"
     ]
    }
   ],
   "source": [
    "states_of_america = [\"Delaware\", \"Pennsylvania\", \"New Jersey\", \"Georgia\", \"Connecticut\", \"Massachusetts\", \"Maryland\", \"South Carolina\", \"New Hampshire\", \"Virginia\", \"New York\", \"North Carolina\", \"Rhode Island\", \"Vermont\", \"Kentucky\", \"Tennessee\", \"Ohio\", \"Louisiana\", \"Indiana\", \"Mississippi\", \"Illinois\", \"Alabama\", \"Maine\", \"Missouri\", \"Arkansas\", \"Michigan\", \"Florida\", \"Texas\", \"Iowa\", \"Wisconsin\", \"California\", \"Minnesota\", \"Oregon\", \"Kansas\", \"West Virginia\", \"Nevada\", \"Nebraska\", \"Colorado\", \"North Dakota\", \"South Dakota\", \"Montana\", \"Washington\", \"Idaho\", \"Wyoming\", \"Utah\", \"Oklahoma\", \"New Mexico\", \"Arizona\", \"Alaska\", \"Hawaii\"]\n",
    "print(states_of_america[0:5])"
   ]
  },
  {
   "cell_type": "code",
   "execution_count": 53,
   "id": "d23a73e3",
   "metadata": {},
   "outputs": [
    {
     "name": "stdout",
     "output_type": "stream",
     "text": [
      "['ankita', 'jadhao', 'nikita', 'pranita']\n"
     ]
    }
   ],
   "source": [
    "name= ['ankita','jadhao','nikita']\n",
    "name.append('pranita')\n",
    "print(name)"
   ]
  },
  {
   "cell_type": "code",
   "execution_count": 58,
   "id": "d599f2eb",
   "metadata": {},
   "outputs": [
    {
     "name": "stdout",
     "output_type": "stream",
     "text": [
      "['ankita', ' is ', ' good', ' girl', 's']\n"
     ]
    }
   ],
   "source": [
    "ankita= 'ankita, is , good, girl,s'\n",
    "a= ankita.split(',')\n",
    "print(a)"
   ]
  },
  {
   "cell_type": "code",
   "execution_count": 61,
   "id": "653c9f69",
   "metadata": {},
   "outputs": [
    {
     "name": "stdout",
     "output_type": "stream",
     "text": [
      "Give me everybody's names, seperated by a comma. aniki , niki , panu , sunu , dig\n",
      "dig will pay today\n"
     ]
    }
   ],
   "source": [
    "import random\n",
    "\n",
    "names_string = input(\"Give me everybody's names, seperated by a comma. \")\n",
    "names = names_string.split(\", \")\n",
    "\n",
    "no_items= len(names)\n",
    "choice= random.randint(0,no_items - 1)\n",
    "pay = names[choice]\n",
    "print(pay +' will pay today')"
   ]
  },
  {
   "cell_type": "code",
   "execution_count": 62,
   "id": "a79ef31e",
   "metadata": {},
   "outputs": [
    {
     "data": {
      "text/plain": [
       "6"
      ]
     },
     "execution_count": 62,
     "metadata": {},
     "output_type": "execute_result"
    }
   ],
   "source": [
    "a =\"ankita\"\n",
    "len(a)"
   ]
  },
  {
   "cell_type": "code",
   "execution_count": null,
   "id": "71b83709",
   "metadata": {},
   "outputs": [],
   "source": []
  }
 ],
 "metadata": {
  "kernelspec": {
   "display_name": "Python 3 (ipykernel)",
   "language": "python",
   "name": "python3"
  },
  "language_info": {
   "codemirror_mode": {
    "name": "ipython",
    "version": 3
   },
   "file_extension": ".py",
   "mimetype": "text/x-python",
   "name": "python",
   "nbconvert_exporter": "python",
   "pygments_lexer": "ipython3",
   "version": "3.9.7"
  }
 },
 "nbformat": 4,
 "nbformat_minor": 5
}
